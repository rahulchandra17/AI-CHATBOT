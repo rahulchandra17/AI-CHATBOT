{
 "cells": [
  {
   "cell_type": "code",
   "execution_count": 1,
   "metadata": {},
   "outputs": [],
   "source": [
    "import pandas as pd \n",
    "import numpy as np\n",
    "from sklearn.feature_extraction.text import TfidfVectorizer\n",
    "from sklearn.model_selection import train_test_split"
   ]
  },
  {
   "cell_type": "code",
   "execution_count": 2,
   "metadata": {},
   "outputs": [],
   "source": [
    "conv = pd.read_csv('conversation.csv')"
   ]
  },
  {
   "cell_type": "code",
   "execution_count": 3,
   "metadata": {},
   "outputs": [
    {
     "data": {
      "text/html": [
       "<div>\n",
       "<style scoped>\n",
       "    .dataframe tbody tr th:only-of-type {\n",
       "        vertical-align: middle;\n",
       "    }\n",
       "\n",
       "    .dataframe tbody tr th {\n",
       "        vertical-align: top;\n",
       "    }\n",
       "\n",
       "    .dataframe thead th {\n",
       "        text-align: right;\n",
       "    }\n",
       "</style>\n",
       "<table border=\"1\" class=\"dataframe\">\n",
       "  <thead>\n",
       "    <tr style=\"text-align: right;\">\n",
       "      <th></th>\n",
       "      <th>question</th>\n",
       "      <th>answer</th>\n",
       "    </tr>\n",
       "  </thead>\n",
       "  <tbody>\n",
       "    <tr>\n",
       "      <td>0</td>\n",
       "      <td>Good morning, how are you?</td>\n",
       "      <td>I am  good.</td>\n",
       "    </tr>\n",
       "    <tr>\n",
       "      <td>1</td>\n",
       "      <td>what is your name</td>\n",
       "      <td>I am jojo</td>\n",
       "    </tr>\n",
       "    <tr>\n",
       "      <td>2</td>\n",
       "      <td>How are you doing?</td>\n",
       "      <td>I am doing well.</td>\n",
       "    </tr>\n",
       "    <tr>\n",
       "      <td>3</td>\n",
       "      <td>That is good to hear</td>\n",
       "      <td>Yes it is</td>\n",
       "    </tr>\n",
       "    <tr>\n",
       "      <td>4</td>\n",
       "      <td>Can I help you with anything?</td>\n",
       "      <td>Yes, I have a question.</td>\n",
       "    </tr>\n",
       "    <tr>\n",
       "      <td>...</td>\n",
       "      <td>...</td>\n",
       "      <td>...</td>\n",
       "    </tr>\n",
       "    <tr>\n",
       "      <td>101</td>\n",
       "      <td>Hi Mrs. Smith, how has your husband been?</td>\n",
       "      <td>He has been well.</td>\n",
       "    </tr>\n",
       "    <tr>\n",
       "      <td>102</td>\n",
       "      <td>NaN</td>\n",
       "      <td>NaN</td>\n",
       "    </tr>\n",
       "    <tr>\n",
       "      <td>103</td>\n",
       "      <td>Hi Ms. Jacobs, I was wondering if you could re...</td>\n",
       "      <td>I might be able to, what are the revisions?</td>\n",
       "    </tr>\n",
       "    <tr>\n",
       "      <td>104</td>\n",
       "      <td>NaN</td>\n",
       "      <td>NaN</td>\n",
       "    </tr>\n",
       "    <tr>\n",
       "      <td>105</td>\n",
       "      <td>We like it to be able to identify the type of ...</td>\n",
       "      <td>Unfortunately, I think it might take a bit lon...</td>\n",
       "    </tr>\n",
       "  </tbody>\n",
       "</table>\n",
       "<p>106 rows × 2 columns</p>\n",
       "</div>"
      ],
      "text/plain": [
       "                                              question  \\\n",
       "0                           Good morning, how are you?   \n",
       "1                                    what is your name   \n",
       "2                                   How are you doing?   \n",
       "3                                 That is good to hear   \n",
       "4                        Can I help you with anything?   \n",
       "..                                                 ...   \n",
       "101          Hi Mrs. Smith, how has your husband been?   \n",
       "102                                                NaN   \n",
       "103  Hi Ms. Jacobs, I was wondering if you could re...   \n",
       "104                                                NaN   \n",
       "105  We like it to be able to identify the type of ...   \n",
       "\n",
       "                                                answer  \n",
       "0                                          I am  good.  \n",
       "1                                            I am jojo  \n",
       "2                                     I am doing well.  \n",
       "3                                            Yes it is  \n",
       "4                              Yes, I have a question.  \n",
       "..                                                 ...  \n",
       "101                                  He has been well.  \n",
       "102                                                NaN  \n",
       "103        I might be able to, what are the revisions?  \n",
       "104                                                NaN  \n",
       "105  Unfortunately, I think it might take a bit lon...  \n",
       "\n",
       "[106 rows x 2 columns]"
      ]
     },
     "execution_count": 3,
     "metadata": {},
     "output_type": "execute_result"
    }
   ],
   "source": [
    "conv"
   ]
  },
  {
   "cell_type": "code",
   "execution_count": 4,
   "metadata": {},
   "outputs": [],
   "source": [
    "conv.columns = ['question','answer']"
   ]
  },
  {
   "cell_type": "code",
   "execution_count": 5,
   "metadata": {},
   "outputs": [
    {
     "data": {
      "text/html": [
       "<div>\n",
       "<style scoped>\n",
       "    .dataframe tbody tr th:only-of-type {\n",
       "        vertical-align: middle;\n",
       "    }\n",
       "\n",
       "    .dataframe tbody tr th {\n",
       "        vertical-align: top;\n",
       "    }\n",
       "\n",
       "    .dataframe thead th {\n",
       "        text-align: right;\n",
       "    }\n",
       "</style>\n",
       "<table border=\"1\" class=\"dataframe\">\n",
       "  <thead>\n",
       "    <tr style=\"text-align: right;\">\n",
       "      <th></th>\n",
       "      <th>question</th>\n",
       "      <th>answer</th>\n",
       "    </tr>\n",
       "  </thead>\n",
       "  <tbody>\n",
       "    <tr>\n",
       "      <td>0</td>\n",
       "      <td>Good morning, how are you?</td>\n",
       "      <td>I am  good.</td>\n",
       "    </tr>\n",
       "    <tr>\n",
       "      <td>1</td>\n",
       "      <td>what is your name</td>\n",
       "      <td>I am jojo</td>\n",
       "    </tr>\n",
       "    <tr>\n",
       "      <td>2</td>\n",
       "      <td>How are you doing?</td>\n",
       "      <td>I am doing well.</td>\n",
       "    </tr>\n",
       "    <tr>\n",
       "      <td>3</td>\n",
       "      <td>That is good to hear</td>\n",
       "      <td>Yes it is</td>\n",
       "    </tr>\n",
       "    <tr>\n",
       "      <td>4</td>\n",
       "      <td>Can I help you with anything?</td>\n",
       "      <td>Yes, I have a question.</td>\n",
       "    </tr>\n",
       "    <tr>\n",
       "      <td>...</td>\n",
       "      <td>...</td>\n",
       "      <td>...</td>\n",
       "    </tr>\n",
       "    <tr>\n",
       "      <td>101</td>\n",
       "      <td>Hi Mrs. Smith, how has your husband been?</td>\n",
       "      <td>He has been well.</td>\n",
       "    </tr>\n",
       "    <tr>\n",
       "      <td>102</td>\n",
       "      <td>NaN</td>\n",
       "      <td>NaN</td>\n",
       "    </tr>\n",
       "    <tr>\n",
       "      <td>103</td>\n",
       "      <td>Hi Ms. Jacobs, I was wondering if you could re...</td>\n",
       "      <td>I might be able to, what are the revisions?</td>\n",
       "    </tr>\n",
       "    <tr>\n",
       "      <td>104</td>\n",
       "      <td>NaN</td>\n",
       "      <td>NaN</td>\n",
       "    </tr>\n",
       "    <tr>\n",
       "      <td>105</td>\n",
       "      <td>We like it to be able to identify the type of ...</td>\n",
       "      <td>Unfortunately, I think it might take a bit lon...</td>\n",
       "    </tr>\n",
       "  </tbody>\n",
       "</table>\n",
       "<p>106 rows × 2 columns</p>\n",
       "</div>"
      ],
      "text/plain": [
       "                                              question  \\\n",
       "0                           Good morning, how are you?   \n",
       "1                                    what is your name   \n",
       "2                                   How are you doing?   \n",
       "3                                 That is good to hear   \n",
       "4                        Can I help you with anything?   \n",
       "..                                                 ...   \n",
       "101          Hi Mrs. Smith, how has your husband been?   \n",
       "102                                                NaN   \n",
       "103  Hi Ms. Jacobs, I was wondering if you could re...   \n",
       "104                                                NaN   \n",
       "105  We like it to be able to identify the type of ...   \n",
       "\n",
       "                                                answer  \n",
       "0                                          I am  good.  \n",
       "1                                            I am jojo  \n",
       "2                                     I am doing well.  \n",
       "3                                            Yes it is  \n",
       "4                              Yes, I have a question.  \n",
       "..                                                 ...  \n",
       "101                                  He has been well.  \n",
       "102                                                NaN  \n",
       "103        I might be able to, what are the revisions?  \n",
       "104                                                NaN  \n",
       "105  Unfortunately, I think it might take a bit lon...  \n",
       "\n",
       "[106 rows x 2 columns]"
      ]
     },
     "execution_count": 5,
     "metadata": {},
     "output_type": "execute_result"
    }
   ],
   "source": [
    "conv"
   ]
  },
  {
   "cell_type": "code",
   "execution_count": 6,
   "metadata": {},
   "outputs": [],
   "source": [
    "conv = conv.dropna()"
   ]
  },
  {
   "cell_type": "code",
   "execution_count": 7,
   "metadata": {},
   "outputs": [],
   "source": [
    "x = conv.question\n",
    "y = conv.answer"
   ]
  },
  {
   "cell_type": "code",
   "execution_count": 8,
   "metadata": {},
   "outputs": [
    {
     "data": {
      "text/plain": [
       "0                             Good morning, how are you?\n",
       "1                                      what is your name\n",
       "2                                     How are you doing?\n",
       "3                                   That is good to hear\n",
       "4                          Can I help you with anything?\n",
       "5                                 What is your question?\n",
       "6                       I am sorry, but I dont have any.\n",
       "7                                             No problem\n",
       "8                        I am doing well, how about you?\n",
       "9                                            Thats good.\n",
       "10                                       What good news?\n",
       "11                                          I cant read.\n",
       "12                                                  Blue\n",
       "13     Who? Who is but a form following thefunction o...\n",
       "14                                      A man in a mask.\n",
       "15     Its not your powers of observation I doubt, bu...\n",
       "16     of asking a masked man who is. But tell me, do...\n",
       "17                      What kind of movies do you like?\n",
       "18                          I wish I was The Mad Hatter.\n",
       "19     You are entirely bonkers. But I ll tell you a ...\n",
       "20                              What are you working on?\n",
       "21                                    The cake is a lie.\n",
       "22                               What else is delicious?\n",
       "23                                          Or something\n",
       "24                             What do you want to know?\n",
       "25                                             Yes I am.\n",
       "26                     What is it that you want to know?\n",
       "27                                      Its complicated.\n",
       "28                   Complex is better than complicated.\n",
       "29     In the face of ambiguity, refuse the temptatio...\n",
       "30                                                 I am.\n",
       "31                          Of course I am a programmer.\n",
       "32                                    where are you live\n",
       "33                                            I love you\n",
       "34                             I cannot live without you\n",
       "63               I use Python, Java and C++ quite often.\n",
       "64                      I use Python quite a bit myself.\n",
       "66                                      What annoys you?\n",
       "68                                   What does YOLO mean\n",
       "70                              I heard somebody say it.\n",
       "72                        It depends how you define life\n",
       "74     the capacity for growth, reproduction, functio...\n",
       "76                              Can I ask you a question\n",
       "78                                What are your hobbies?\n",
       "80                                I love to read novels.\n",
       "82                                          How are you?\n",
       "84                             I am but a man in a mask.\n",
       "85                         Who is your appointment with?\n",
       "89     Alright, Dr. Smith is in his office, please ta...\n",
       "91                                             Thank you\n",
       "93                 Hello Mr. Davis, how are you feeling?\n",
       "95                         How much money have you lost?\n",
       "97                                 What about yesterday?\n",
       "99                                 Yes, that is correct.\n",
       "101            Hi Mrs. Smith, how has your husband been?\n",
       "103    Hi Ms. Jacobs, I was wondering if you could re...\n",
       "105    We like it to be able to identify the type of ...\n",
       "Name: question, dtype: object"
      ]
     },
     "execution_count": 8,
     "metadata": {},
     "output_type": "execute_result"
    }
   ],
   "source": [
    "x"
   ]
  },
  {
   "cell_type": "code",
   "execution_count": 9,
   "metadata": {},
   "outputs": [
    {
     "data": {
      "text/plain": [
       "0                                            I am  good.\n",
       "1                                              I am jojo\n",
       "2                                       I am doing well.\n",
       "3                                              Yes it is\n",
       "4                                Yes, I have a question.\n",
       "5                         Could I borrow a cup of sugar?\n",
       "6                                       Thank you anyway\n",
       "7                                     How are you doing?\n",
       "8                                        I am also good.\n",
       "9                               Have you heard the news?\n",
       "10                           What is your favorite book?\n",
       "11                         So whats your favorite color?\n",
       "12                                          Who are you?\n",
       "13                                   this is masterpeace\n",
       "14                                   What are you then?,\n",
       "15                                        I can see that\n",
       "16                                       noo its strange\n",
       "17                                 I like seeing movies.\n",
       "18                                   Alice in Wonderland\n",
       "19                             I am working on a project\n",
       "20                                   I am baking a cake.\n",
       "21                  No it is not. The cake is delicious.\n",
       "22                                               Nothing\n",
       "23                              Tell me about your self.\n",
       "24                                       Are you a robot\n",
       "25                                      What is it like?\n",
       "26                                      How do you work?\n",
       "27                   Complex is better than complicated.\n",
       "28                        Simple is better than complex.\n",
       "29         It seems your familiar with the Zen of Python\n",
       "30                                 Are you a programmer?\n",
       "31                                          I am indeed.\n",
       "32                                  I am come from space\n",
       "33                                        I love you too\n",
       "34                                         me to my love\n",
       "63                    What languages do you like to use?\n",
       "64                       Im not incredibly fond of Java.\n",
       "66     A lot of things, like all the other digits oth...\n",
       "68     It means you only live once. Where did you hea...\n",
       "70                                      Did I ever live?\n",
       "72     Life is the condition that distinguishes organ...\n",
       "74                   Is that a definition or an opinion?\n",
       "76                                       Sure, ask away.\n",
       "78     Playing soccer, painting, and writing are my h...\n",
       "80                         I love exploring my hardware.\n",
       "82                                      I am doing well.\n",
       "84                  Hello, I am here for my appointment.\n",
       "85          I believe they said Dr. Smith on the phone.'\n",
       "89                           Dr. Smith will see you now.\n",
       "91                                       Right this way.\n",
       "93           I am feeling like I have lost all my money.\n",
       "95              I have lost about $200.00 so far today.'\n",
       "97                       Yesterday was the 13th, right?'\n",
       "99                          Yesterday I lost only $5.00.\n",
       "101                                    He has been well.\n",
       "103          I might be able to, what are the revisions?\n",
       "105    Unfortunately, I think it might take a bit lon...\n",
       "Name: answer, dtype: object"
      ]
     },
     "execution_count": 9,
     "metadata": {},
     "output_type": "execute_result"
    }
   ],
   "source": [
    "y"
   ]
  },
  {
   "cell_type": "code",
   "execution_count": 10,
   "metadata": {},
   "outputs": [
    {
     "data": {
      "text/plain": [
       "question    0\n",
       "answer      0\n",
       "dtype: int64"
      ]
     },
     "execution_count": 10,
     "metadata": {},
     "output_type": "execute_result"
    }
   ],
   "source": [
    "conv.isnull().sum()"
   ]
  },
  {
   "cell_type": "code",
   "execution_count": 11,
   "metadata": {},
   "outputs": [],
   "source": [
    "from sklearn.pipeline import Pipeline\n",
    "from sklearn.ensemble import RandomForestClassifier "
   ]
  },
  {
   "cell_type": "code",
   "execution_count": 12,
   "metadata": {},
   "outputs": [],
   "source": [
    "clf = Pipeline([('tfdf', TfidfVectorizer()),\n",
    "                ('svc', RandomForestClassifier())])"
   ]
  },
  {
   "cell_type": "code",
   "execution_count": 13,
   "metadata": {},
   "outputs": [],
   "source": [
    "x_train,x_test,y_train,y_test = train_test_split(x,y,random_state=42,test_size=0.05)"
   ]
  },
  {
   "cell_type": "code",
   "execution_count": 14,
   "metadata": {},
   "outputs": [
    {
     "name": "stderr",
     "output_type": "stream",
     "text": [
      "C:\\Users\\ROHIT\\anaconda\\lib\\site-packages\\sklearn\\ensemble\\forest.py:245: FutureWarning: The default value of n_estimators will change from 10 in version 0.20 to 100 in 0.22.\n",
      "  \"10 in version 0.20 to 100 in 0.22.\", FutureWarning)\n"
     ]
    },
    {
     "data": {
      "text/plain": [
       "Pipeline(memory=None,\n",
       "         steps=[('tfdf',\n",
       "                 TfidfVectorizer(analyzer='word', binary=False,\n",
       "                                 decode_error='strict',\n",
       "                                 dtype=<class 'numpy.float64'>,\n",
       "                                 encoding='utf-8', input='content',\n",
       "                                 lowercase=True, max_df=1.0, max_features=None,\n",
       "                                 min_df=1, ngram_range=(1, 1), norm='l2',\n",
       "                                 preprocessor=None, smooth_idf=True,\n",
       "                                 stop_words=None, strip_accents=None,\n",
       "                                 sublinear_tf=False,\n",
       "                                 token_pattern='(...\n",
       "                 RandomForestClassifier(bootstrap=True, class_weight=None,\n",
       "                                        criterion='gini', max_depth=None,\n",
       "                                        max_features='auto',\n",
       "                                        max_leaf_nodes=None,\n",
       "                                        min_impurity_decrease=0.0,\n",
       "                                        min_impurity_split=None,\n",
       "                                        min_samples_leaf=1, min_samples_split=2,\n",
       "                                        min_weight_fraction_leaf=0.0,\n",
       "                                        n_estimators=10, n_jobs=None,\n",
       "                                        oob_score=False, random_state=None,\n",
       "                                        verbose=0, warm_start=False))],\n",
       "         verbose=False)"
      ]
     },
     "execution_count": 14,
     "metadata": {},
     "output_type": "execute_result"
    }
   ],
   "source": [
    "clf.fit(x_train,y_train)"
   ]
  },
  {
   "cell_type": "code",
   "execution_count": 15,
   "metadata": {},
   "outputs": [
    {
     "data": {
      "text/plain": [
       "0.0"
      ]
     },
     "execution_count": 15,
     "metadata": {},
     "output_type": "execute_result"
    }
   ],
   "source": [
    "clf.score(x_test,y_test)"
   ]
  },
  {
   "cell_type": "code",
   "execution_count": 16,
   "metadata": {},
   "outputs": [
    {
     "data": {
      "text/plain": [
       "array(['I am doing well.', 'I am jojo', 'What is it like?'], dtype=object)"
      ]
     },
     "execution_count": 16,
     "metadata": {},
     "output_type": "execute_result"
    }
   ],
   "source": [
    "clf.predict(x_test)"
   ]
  },
  {
   "cell_type": "code",
   "execution_count": 17,
   "metadata": {},
   "outputs": [
    {
     "data": {
      "text/plain": [
       "0                        I am  good.\n",
       "5     Could I borrow a cup of sugar?\n",
       "30             Are you a programmer?\n",
       "Name: answer, dtype: object"
      ]
     },
     "execution_count": 17,
     "metadata": {},
     "output_type": "execute_result"
    }
   ],
   "source": [
    "y_test"
   ]
  },
  {
   "cell_type": "code",
   "execution_count": 81,
   "metadata": {},
   "outputs": [
    {
     "data": {
      "text/plain": [
       "21           The cake is a lie.\n",
       "84    I am but a man in a mask.\n",
       "97        What about yesterday?\n",
       "Name: question, dtype: object"
      ]
     },
     "execution_count": 81,
     "metadata": {},
     "output_type": "execute_result"
    }
   ],
   "source": [
    "x_test"
   ]
  },
  {
   "cell_type": "code",
   "execution_count": 82,
   "metadata": {},
   "outputs": [],
   "source": [
    "from joblib import dump"
   ]
  },
  {
   "cell_type": "code",
   "execution_count": 83,
   "metadata": {},
   "outputs": [
    {
     "data": {
      "text/plain": [
       "['conversation']"
      ]
     },
     "execution_count": 83,
     "metadata": {},
     "output_type": "execute_result"
    }
   ],
   "source": [
    "dump(clf ,'conversation')"
   ]
  },
  {
   "cell_type": "code",
   "execution_count": null,
   "metadata": {},
   "outputs": [],
   "source": []
  }
 ],
 "metadata": {
  "kernelspec": {
   "display_name": "Python 3",
   "language": "python",
   "name": "python3"
  },
  "language_info": {
   "codemirror_mode": {
    "name": "ipython",
    "version": 3
   },
   "file_extension": ".py",
   "mimetype": "text/x-python",
   "name": "python",
   "nbconvert_exporter": "python",
   "pygments_lexer": "ipython3",
   "version": "3.7.4"
  }
 },
 "nbformat": 4,
 "nbformat_minor": 2
}
